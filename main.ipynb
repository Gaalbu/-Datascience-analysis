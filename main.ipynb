{
 "cells": [
  {
   "cell_type": "markdown",
   "id": "737f9510",
   "metadata": {},
   "source": [
    "# Imports"
   ]
  },
  {
   "cell_type": "code",
   "execution_count": 50,
   "id": "db9e744a",
   "metadata": {},
   "outputs": [],
   "source": [
    "import numpy as np\n",
    "import matplotlib.pyplot as plt\n",
    "import pandas as pd\n",
    "import scipy.stats as sts\n",
    "import seaborn as sns"
   ]
  },
  {
   "cell_type": "code",
   "execution_count": 51,
   "id": "ef2d3e02",
   "metadata": {},
   "outputs": [
    {
     "data": {
      "text/html": [
       "<div>\n",
       "<style scoped>\n",
       "    .dataframe tbody tr th:only-of-type {\n",
       "        vertical-align: middle;\n",
       "    }\n",
       "\n",
       "    .dataframe tbody tr th {\n",
       "        vertical-align: top;\n",
       "    }\n",
       "\n",
       "    .dataframe thead th {\n",
       "        text-align: right;\n",
       "    }\n",
       "</style>\n",
       "<table border=\"1\" class=\"dataframe\">\n",
       "  <thead>\n",
       "    <tr style=\"text-align: right;\">\n",
       "      <th></th>\n",
       "      <th>#</th>\n",
       "      <th>Name</th>\n",
       "      <th>Type 1</th>\n",
       "      <th>Type 2</th>\n",
       "      <th>Total</th>\n",
       "      <th>HP</th>\n",
       "      <th>Attack</th>\n",
       "      <th>Defense</th>\n",
       "      <th>Sp. Atk</th>\n",
       "      <th>Sp. Def</th>\n",
       "      <th>Speed</th>\n",
       "      <th>Generation</th>\n",
       "      <th>Legendary</th>\n",
       "    </tr>\n",
       "  </thead>\n",
       "  <tbody>\n",
       "    <tr>\n",
       "      <th>0</th>\n",
       "      <td>1</td>\n",
       "      <td>Bulbasaur</td>\n",
       "      <td>Grass</td>\n",
       "      <td>Poison</td>\n",
       "      <td>318</td>\n",
       "      <td>45</td>\n",
       "      <td>49</td>\n",
       "      <td>49</td>\n",
       "      <td>65</td>\n",
       "      <td>65</td>\n",
       "      <td>45</td>\n",
       "      <td>1</td>\n",
       "      <td>False</td>\n",
       "    </tr>\n",
       "    <tr>\n",
       "      <th>1</th>\n",
       "      <td>2</td>\n",
       "      <td>Ivysaur</td>\n",
       "      <td>Grass</td>\n",
       "      <td>Poison</td>\n",
       "      <td>405</td>\n",
       "      <td>60</td>\n",
       "      <td>62</td>\n",
       "      <td>63</td>\n",
       "      <td>80</td>\n",
       "      <td>80</td>\n",
       "      <td>60</td>\n",
       "      <td>1</td>\n",
       "      <td>False</td>\n",
       "    </tr>\n",
       "    <tr>\n",
       "      <th>2</th>\n",
       "      <td>3</td>\n",
       "      <td>Venusaur</td>\n",
       "      <td>Grass</td>\n",
       "      <td>Poison</td>\n",
       "      <td>525</td>\n",
       "      <td>80</td>\n",
       "      <td>82</td>\n",
       "      <td>83</td>\n",
       "      <td>100</td>\n",
       "      <td>100</td>\n",
       "      <td>80</td>\n",
       "      <td>1</td>\n",
       "      <td>False</td>\n",
       "    </tr>\n",
       "    <tr>\n",
       "      <th>3</th>\n",
       "      <td>3</td>\n",
       "      <td>VenusaurMega Venusaur</td>\n",
       "      <td>Grass</td>\n",
       "      <td>Poison</td>\n",
       "      <td>625</td>\n",
       "      <td>80</td>\n",
       "      <td>100</td>\n",
       "      <td>123</td>\n",
       "      <td>122</td>\n",
       "      <td>120</td>\n",
       "      <td>80</td>\n",
       "      <td>1</td>\n",
       "      <td>False</td>\n",
       "    </tr>\n",
       "    <tr>\n",
       "      <th>4</th>\n",
       "      <td>4</td>\n",
       "      <td>Charmander</td>\n",
       "      <td>Fire</td>\n",
       "      <td>NaN</td>\n",
       "      <td>309</td>\n",
       "      <td>39</td>\n",
       "      <td>52</td>\n",
       "      <td>43</td>\n",
       "      <td>60</td>\n",
       "      <td>50</td>\n",
       "      <td>65</td>\n",
       "      <td>1</td>\n",
       "      <td>False</td>\n",
       "    </tr>\n",
       "  </tbody>\n",
       "</table>\n",
       "</div>"
      ],
      "text/plain": [
       "   #                   Name Type 1  Type 2  Total  HP  Attack  Defense  \\\n",
       "0  1              Bulbasaur  Grass  Poison    318  45      49       49   \n",
       "1  2                Ivysaur  Grass  Poison    405  60      62       63   \n",
       "2  3               Venusaur  Grass  Poison    525  80      82       83   \n",
       "3  3  VenusaurMega Venusaur  Grass  Poison    625  80     100      123   \n",
       "4  4             Charmander   Fire     NaN    309  39      52       43   \n",
       "\n",
       "   Sp. Atk  Sp. Def  Speed  Generation  Legendary  \n",
       "0       65       65     45           1      False  \n",
       "1       80       80     60           1      False  \n",
       "2      100      100     80           1      False  \n",
       "3      122      120     80           1      False  \n",
       "4       60       50     65           1      False  "
      ]
     },
     "execution_count": 51,
     "metadata": {},
     "output_type": "execute_result"
    }
   ],
   "source": [
    "df = pd.read_csv('Pokemon.csv')\n",
    "df.head(5)"
   ]
  },
  {
   "cell_type": "code",
   "execution_count": 52,
   "id": "c3345c1c",
   "metadata": {},
   "outputs": [
    {
     "name": "stdout",
     "output_type": "stream",
     "text": [
      "<class 'pandas.core.frame.DataFrame'>\n",
      "RangeIndex: 800 entries, 0 to 799\n",
      "Data columns (total 13 columns):\n",
      " #   Column      Non-Null Count  Dtype \n",
      "---  ------      --------------  ----- \n",
      " 0   #           800 non-null    int64 \n",
      " 1   Name        800 non-null    object\n",
      " 2   Type 1      800 non-null    object\n",
      " 3   Type 2      414 non-null    object\n",
      " 4   Total       800 non-null    int64 \n",
      " 5   HP          800 non-null    int64 \n",
      " 6   Attack      800 non-null    int64 \n",
      " 7   Defense     800 non-null    int64 \n",
      " 8   Sp. Atk     800 non-null    int64 \n",
      " 9   Sp. Def     800 non-null    int64 \n",
      " 10  Speed       800 non-null    int64 \n",
      " 11  Generation  800 non-null    int64 \n",
      " 12  Legendary   800 non-null    bool  \n",
      "dtypes: bool(1), int64(9), object(3)\n",
      "memory usage: 75.9+ KB\n"
     ]
    }
   ],
   "source": [
    "df.info()"
   ]
  },
  {
   "cell_type": "markdown",
   "id": "4888b189",
   "metadata": {},
   "source": [
    "### Indentificando valores nulos/NaN"
   ]
  },
  {
   "cell_type": "code",
   "execution_count": null,
   "id": "ae799758",
   "metadata": {},
   "outputs": [
    {
     "data": {
      "text/plain": [
       "0      False\n",
       "1      False\n",
       "2      False\n",
       "3      False\n",
       "4       True\n",
       "       ...  \n",
       "795    False\n",
       "796    False\n",
       "797    False\n",
       "798    False\n",
       "799    False\n",
       "Name: Type 2, Length: 800, dtype: bool"
      ]
     },
     "execution_count": 58,
     "metadata": {},
     "output_type": "execute_result"
    }
   ],
   "source": [
    "df['Type 2'].isnull().sum()"
   ]
  },
  {
   "cell_type": "markdown",
   "id": "e8481135",
   "metadata": {},
   "source": [
    "Os dados que não possuem entrada se referem aos pokemons únicamente tipados."
   ]
  },
  {
   "cell_type": "markdown",
   "id": "5c9bd555",
   "metadata": {},
   "source": [
    "### Entendendo relações"
   ]
  },
  {
   "cell_type": "markdown",
   "id": "4c92228e",
   "metadata": {},
   "source": [
    "Com o dataset analisado, podemos começar a gerar insights sobre o mesmo."
   ]
  },
  {
   "cell_type": "markdown",
   "id": "496740c9",
   "metadata": {},
   "source": [
    "$$\n",
    "    H0: Fd = Fu\n",
    "$$"
   ]
  },
  {
   "cell_type": "markdown",
   "id": "c71ec735",
   "metadata": {},
   "source": [
    "Aqui estamos tentando analisar se a força(Attack) dos pokemons duplamente tipados é superior aos unicamente tipados, utilizando o Teste t de Student para tal."
   ]
  },
  {
   "cell_type": "code",
   "execution_count": null,
   "id": "b47cd921",
   "metadata": {},
   "outputs": [
    {
     "name": "stdout",
     "output_type": "stream",
     "text": [
      "True\n",
      "Podemos inferir estatísticamente que nossa hipotese original é falsa.\n"
     ]
    }
   ],
   "source": [
    "Fduplamente_tipados = df[df[\"Type 2\"].notnull()]['Attack']\n",
    "Funicamente_tipados = df[df[\"Type 2\"].isnull()]['Attack']\n",
    "\n",
    "alpha = 0.05 #Margem de erro para 95% de certeza\n",
    "#Verificação pelo teste de levene para saber se as\n",
    "#variâncias são iguais,então alterando o \n",
    "#param 'equal_var' do ttest de acordo\n",
    "\n",
    "pForça = True\n",
    "if sts.levene(Fduplamente_tipados,Funicamente_tipados).pvalue > alpha:\n",
    "    pForça = False\n",
    "\n",
    "if sts.ttest_ind(Fduplamente_tipados,Funicamente_tipados,equal_var=pForça).pvalue < alpha:\n",
    "    print('Podemos inferir estatísticamente que nossa hipotese original é falsa.')\n",
    "else:\n",
    "    print('Nossa hipotese original é verdadeira, portanto não há diferença significativa entre a força de ataque.')    \n",
    "\n",
    "\n",
    "\n"
   ]
  },
  {
   "cell_type": "markdown",
   "id": "fb0886e1",
   "metadata": {},
   "source": [
    "Então, se a H0 é falsa, vamos entender qual o comportamento da força entre os tipos.\n",
    "A força dos duplamente tipados é maior?\n",
    "$$\n",
    "H1: Fd > Fu\n",
    "$$"
   ]
  },
  {
   "cell_type": "code",
   "execution_count": null,
   "id": "aa0efd17",
   "metadata": {},
   "outputs": [
    {
     "name": "stdout",
     "output_type": "stream",
     "text": [
      "7.870697833082198e-05\n",
      "H1 é verdadeira, logo a força de ataque dos duplamente tipados é maior\n"
     ]
    }
   ],
   "source": [
    "alpha = 0.05\n",
    "ForcaFinal = sts.ttest_ind(Fduplamente_tipados,Funicamente_tipados,equal_var=pForça,alternative='greater').pvalue\n",
    "if ForcaFinal < alpha:\n",
    "    print(\"H1 é verdadeira, logo a força de ataque dos duplamente tipados é maior\")\n",
    "else:\n",
    "    print(\"H1 é falsa, então a força dos duplamente tipados é menor que a força dos unicamente tipados\")"
   ]
  },
  {
   "cell_type": "code",
   "execution_count": 96,
   "id": "11dbbc14",
   "metadata": {},
   "outputs": [
    {
     "data": {
      "image/png": "[encoded data removed]",
      "text/plain": [
       "<Figure size 1000x600 with 1 Axes>"
      ]
     },
     "metadata": {},
     "output_type": "display_data"
    }
   ],
   "source": [
    "plt.figure(figsize=(10,6))\n",
    "plt.hist(x = Fduplamente_tipados, edgecolor = 'black',density = True,label='Duplamente tipados')\n",
    "plt.hist(x = Funicamente_tipados, edgecolor = 'black',density = True,alpha = 0.65,label='Unicamente tipados')\n",
    "plt.xlabel(\"Força de ataque\")\n",
    "plt.ylabel(\"Distribuição de pokemons\")\n",
    "plt.title(\"Distribuição X Ataque\")\n",
    "plt.legend()\n",
    "plt.show()"
   ]
  }
 ],
 "metadata": {
  "kernelspec": {
   "display_name": "Python 3",
   "language": "python",
   "name": "python3"
  },
  "language_info": {
   "codemirror_mode": {
    "name": "ipython",
    "version": 3
   },
   "file_extension": ".py",
   "mimetype": "text/x-python",
   "name": "python",
   "nbconvert_exporter": "python",
   "pygments_lexer": "ipython3",
   "version": "3.13.5"
  }
 },
 "nbformat": 4,
 "nbformat_minor": 5
}
